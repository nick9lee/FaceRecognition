{
 "cells": [
  {
   "attachments": {},
   "cell_type": "markdown",
   "metadata": {},
   "source": [
    "# Face Recognition\n",
    "\n",
    "Ahmed Amer, Nicholas Lee, Christian Valdez\n",
    "\n",
    "we are using the ATT face database in the data folder\n",
    "\n",
    "Three methods are implemented and compared in the following order:\n",
    "- LBP\n",
    "- Neural Networks\n",
    "- SVM"
   ]
  },
  {
   "attachments": {},
   "cell_type": "markdown",
   "metadata": {},
   "source": [
    "## Importing Data"
   ]
  },
  {
   "cell_type": "code",
   "execution_count": 125,
   "metadata": {},
   "outputs": [],
   "source": [
    "import os\n",
    "from glob import glob\n",
    "\n",
    "from skimage.io import imread\n",
    "from skimage.feature import local_binary_pattern\n",
    "\n",
    "import cv2\n",
    "import numpy as np\n",
    "import matplotlib.pyplot as plt\n",
    "# import data - can probably copy from lab 6"
   ]
  },
  {
   "cell_type": "code",
   "execution_count": 126,
   "metadata": {},
   "outputs": [],
   "source": [
    "#constants\n",
    "NUM_OF_SUBJECT = 40\n",
    "NUM_OF_SAMPLES_PER_SUBJECT = 10"
   ]
  },
  {
   "attachments": {},
   "cell_type": "markdown",
   "metadata": {},
   "source": [
    "## LBP - Christian Valdez\n",
    "\n",
    "Process images and set up inputs for Nick and Ahmed\n",
    "\n",
    "we will make 4 models total, 2 using LBP and 2 using images as given"
   ]
  },
  {
   "cell_type": "code",
   "execution_count": 127,
   "metadata": {},
   "outputs": [],
   "source": [
    "def read_pgm(dataset_path: str):\n",
    "    '''reads pgm file'''\n",
    "\n",
    "    try:\n",
    "        print(f'reading {dataset_path}')\n",
    "        # img = cv2.imread(dataset_path, 1)\n",
    "        img = imread(dataset_path, as_gray=True)\n",
    "\n",
    "    except Exception as error:\n",
    "        print(f'{error}: {dataset_path} not found, skipping')\n",
    "\n",
    "    else:\n",
    "        return img\n",
    "    \n",
    "def make_gallery(path_prefix: str, pgm_filename: list[int]) -> list:\n",
    "    '''\n",
    "\n",
    "        Description\n",
    "        ================================================\n",
    "        creates gallery of lbp and labels\n",
    "        \n",
    "        ...\n",
    "\n",
    "        calls the function read_pgm to read pgm file using imread from skimage\n",
    "        returns list of lbp and list of labels\n",
    "\n",
    "        Variable Description\n",
    "        ================================================\n",
    "        P:                  Number of circularly symmetric neighbor set points\n",
    "        Q:                  Radius of circle\n",
    "        subject_samples:    list of paths\n",
    "\n",
    "    '''\n",
    "\n",
    "    filename_start = pgm_filename[0]\n",
    "    filename_end = pgm_filename[1]\n",
    "    p = 12\n",
    "    q = 3\n",
    "\n",
    "    subject_samples = [f'{path_prefix}/{sample_number}.pgm' for sample_number in range(filename_start, filename_end)]\n",
    "\n",
    "    lbp_gallery = []\n",
    "    labels = []\n",
    "\n",
    "    for sample in subject_samples:\n",
    "        sample_id = sample.split('/')\n",
    "        sample_id_indx = sample_id[-1].replace('.pgm', '')\n",
    "\n",
    "        img = read_pgm(sample)\n",
    "        lbp = local_binary_pattern(img, p, q)\n",
    "\n",
    "        lbp_gallery.append(lbp)\n",
    "        labels.append(f'{sample_id[2]}_{int(sample_id_indx)-1}')\n",
    "        \n",
    "        plt.imshow(img, cmap='gray')\n",
    "        plt.imshow(lbp)\n",
    "    \n",
    "    return [lbp_gallery, labels]\n"
   ]
  },
  {
   "cell_type": "code",
   "execution_count": 128,
   "metadata": {},
   "outputs": [
    {
     "name": "stdout",
     "output_type": "stream",
     "text": [
      "reading ./Data/s1/1.pgm\n",
      "reading ./Data/s1/2.pgm\n",
      "reading ./Data/s1/3.pgm\n",
      "reading ./Data/s1/4.pgm\n",
      "reading ./Data/s1/5.pgm\n",
      "[[5.120e+02 2.049e+03 3.841e+03 ... 6.400e+01 0.000e+00 0.000e+00]\n",
      " [3.585e+03 1.000e+00 3.841e+03 ... 0.000e+00 5.760e+02 6.400e+01]\n",
      " [3.585e+03 3.000e+00 3.843e+03 ... 1.056e+03 0.000e+00 6.080e+02]\n",
      " ...\n",
      " [4.000e+00 2.063e+03 2.056e+03 ... 2.200e+02 6.400e+01 4.000e+01]\n",
      " [1.500e+01 0.000e+00 1.300e+01 ... 4.000e+00 7.200e+01 8.000e+00]\n",
      " [0.000e+00 9.000e+00 0.000e+00 ... 6.400e+01 4.000e+01 1.600e+01]] another \n",
      "[[3.584e+03 3.584e+03 3.328e+03 ... 1.472e+03 4.480e+02 5.120e+02]\n",
      " [3.073e+03 0.000e+00 3.841e+03 ... 1.984e+03 4.480e+02 1.280e+02]\n",
      " [1.024e+03 0.000e+00 5.120e+02 ... 2.016e+03 4.800e+02 1.920e+02]\n",
      " ...\n",
      " [3.079e+03 2.055e+03 2.055e+03 ... 2.000e+01 1.840e+02 2.480e+02]\n",
      " [2.055e+03 7.000e+00 7.000e+00 ... 2.000e+01 4.000e+01 1.200e+02]\n",
      " [1.500e+01 1.500e+01 3.000e+00 ... 2.800e+01 5.600e+01 1.040e+02]] another \n",
      "[[3584. 3585. 2560. ...    0.    0.  128.]\n",
      " [3585. 3585.    0. ...  320.  960.   64.]\n",
      " [ 512. 3587. 3329. ...  288.  736.  992.]\n",
      " ...\n",
      " [  12.   12.   28. ...  124.   24.  248.]\n",
      " [  12.   14.   28. ...   60.  120.  120.]\n",
      " [  14.   12.   31. ...   52.  120.  112.]] another \n",
      "[[   0.    0.  256. ... 1984.  960.  896.]\n",
      " [   0.    0.  256. ... 1984.  960.  960.]\n",
      " [   0. 2562.  256. ... 2016.  448.  960.]\n",
      " ...\n",
      " [2055.   14. 2079. ...  504.  508.  248.]\n",
      " [  10.   15.    7. ...  248.  252.  240.]\n",
      " [  15.    0.   31. ...  120.  124.  112.]] another \n",
      "[[3.072e+03 2.048e+03 0.000e+00 ... 1.472e+03 5.760e+02 9.600e+02]\n",
      " [2.560e+03 2.049e+03 2.049e+03 ... 1.920e+03 8.960e+02 9.600e+02]\n",
      " [1.000e+00 1.000e+00 0.000e+00 ... 1.984e+03 9.920e+02 0.000e+00]\n",
      " ...\n",
      " [2.060e+03 2.059e+03 3.103e+03 ... 2.800e+01 0.000e+00 2.480e+02]\n",
      " [1.300e+01 2.059e+03 2.111e+03 ... 0.000e+00 1.200e+02 0.000e+00]\n",
      " [1.000e+00 1.100e+01 3.100e+01 ... 1.240e+02 2.400e+01 8.000e+00]] another \n",
      "reading ./Data/s1/6.pgm\n",
      "reading ./Data/s1/7.pgm\n",
      "reading ./Data/s1/8.pgm\n",
      "reading ./Data/s1/9.pgm\n",
      "reading ./Data/s1/10.pgm\n"
     ]
    },
    {
     "data": {
      "image/png": "[encoded data removed]",
      "text/plain": [
       "<Figure size 640x480 with 1 Axes>"
      ]
     },
     "metadata": {},
     "output_type": "display_data"
    }
   ],
   "source": [
    "#testing functions above\n",
    "train_path = './Data/s'\n",
    "\n",
    "for subject in range(1, NUM_OF_SUBJECT):\n",
    "    '''\n",
    "        TODO: test for one subject and make sure it's right\n",
    "    '''\n",
    "    path_prefix = f'{train_path}{subject}'\n",
    "    \n",
    "    train_data, train_label = make_gallery(path_prefix, [1, NUM_OF_SAMPLES_PER_SUBJECT//2+1])\n",
    "    test_data, test_label = make_gallery(path_prefix, [NUM_OF_SAMPLES_PER_SUBJECT//2+1, NUM_OF_SAMPLES_PER_SUBJECT+1])\n",
    "    \n",
    "    break\n"
   ]
  },
  {
   "attachments": {},
   "cell_type": "markdown",
   "metadata": {},
   "source": [
    "## Neural Networks - Nicholas lee\n",
    "\n",
    "train model using LBP\n",
    "\n",
    "train model using images\n",
    "\n",
    "compare each to each other"
   ]
  },
  {
   "cell_type": "code",
   "execution_count": 129,
   "metadata": {},
   "outputs": [],
   "source": [
    "# Neural Network"
   ]
  },
  {
   "attachments": {},
   "cell_type": "markdown",
   "metadata": {},
   "source": [
    "## SVM - Ahmed Amer\n",
    "\n",
    "train model using LBP\n",
    "\n",
    "train model using images\n",
    "\n",
    "compare each to each other"
   ]
  },
  {
   "cell_type": "code",
   "execution_count": 130,
   "metadata": {},
   "outputs": [],
   "source": [
    "#svm"
   ]
  },
  {
   "attachments": {},
   "cell_type": "markdown",
   "metadata": {},
   "source": [
    "## Comparison of all methods (4 models)"
   ]
  },
  {
   "cell_type": "code",
   "execution_count": 131,
   "metadata": {},
   "outputs": [],
   "source": [
    "# comparison"
   ]
  }
 ],
 "metadata": {
  "kernelspec": {
   "display_name": "base",
   "language": "python",
   "name": "python3"
  },
  "language_info": {
   "codemirror_mode": {
    "name": "ipython",
    "version": 3
   },
   "file_extension": ".py",
   "mimetype": "text/x-python",
   "name": "python",
   "nbconvert_exporter": "python",
   "pygments_lexer": "ipython3",
   "version": "3.10.9"
  },
  "orig_nbformat": 4
 },
 "nbformat": 4,
 "nbformat_minor": 2
}
