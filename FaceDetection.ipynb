{
 "cells": [
  {
   "attachments": {},
   "cell_type": "markdown",
   "metadata": {},
   "source": [
    "# Face Recognition\n",
    "\n",
    "Ahmed Amer, Nicholas Lee, Christian Valdez\n",
    "\n",
    "we are using the ATT face database in the data folder\n",
    "\n",
    "Three methods are implemented and compared in the following order:\n",
    "- LBP\n",
    "- Neural Networks\n",
    "- SVM"
   ]
  },
  {
   "attachments": {},
   "cell_type": "markdown",
   "metadata": {},
   "source": [
    "## Importing Data"
   ]
  },
  {
   "cell_type": "code",
   "execution_count": 9,
   "metadata": {},
   "outputs": [
    {
     "name": "stdout",
     "output_type": "stream",
     "text": [
      "Accuracy: 100.00%\n"
     ]
    }
   ],
   "source": [
    "import cv2\n",
    "import numpy as np\n",
    "from sklearn.model_selection import train_test_split\n",
    "from sklearn.metrics import accuracy_score\n",
    "import os\n",
    "\n",
    "# Load the AT&T Faces dataset\n",
    "data_folder = \"./data/\"\n",
    "num_subjects = 40\n",
    "num_images_per_subject = 10\n",
    "image_size = (92, 112)\n",
    "\n",
    "# Load the images and labels into arrays\n",
    "images = []\n",
    "labels = []\n",
    "for subject_id in range(1, num_subjects + 1):\n",
    "    for image_id in range(1, num_images_per_subject + 1):\n",
    "        # Load the image and convert it to grayscale\n",
    "        image_path = os.path.join(data_folder, \"s\" + str(subject_id), str(image_id) + \".pgm\")\n",
    "        image = cv2.imread(image_path, cv2.IMREAD_GRAYSCALE)\n",
    "        image = cv2.resize(image, image_size)\n",
    "\n",
    "        # Add the image and label to the arrays\n",
    "        images.append(image)\n",
    "        labels.append(subject_id)\n",
    "\n",
    "# Convert the arrays to numpy arrays\n",
    "images = np.array(images)\n",
    "labels = np.array(labels)\n",
    "\n",
    "# Split the dataset into training and testing sets\n",
    "X_train, X_test, y_train, y_test = train_test_split(images, labels, test_size=0.2, random_state=42)\n",
    "\n",
    "# Convert X_train to 32-bit floating-point numbers and normalize the pixel values\n",
    "X_train = X_train.astype(np.float32) / 255.0\n",
    "X_test = X_test.astype(np.float32) / 255.0\n",
    "\n",
    "# Train an SVM classifier\n",
    "svm = cv2.ml.SVM_create()\n",
    "svm.setType(cv2.ml.SVM_C_SVC)\n",
    "svm.setKernel(cv2.ml.SVM_LINEAR)\n",
    "svm.train(X_train.reshape(-1, image_size[0]*image_size[1]), cv2.ml.ROW_SAMPLE, y_train)\n",
    "\n",
    "# Make predictions on the test set\n",
    "_, y_pred = svm.predict(X_test.reshape(-1, image_size[0]*image_size[1]))\n",
    "\n",
    "# Evaluate the accuracy of the classifier\n",
    "accuracy = accuracy_score(y_test, y_pred)\n",
    "print(\"Accuracy: {:.2f}%\".format(accuracy * 100))\n"
   ]
  }
 ],
 "metadata": {
  "kernelspec": {
   "display_name": "base",
   "language": "python",
   "name": "python3"
  },
  "language_info": {
   "codemirror_mode": {
    "name": "ipython",
    "version": 3
   },
   "file_extension": ".py",
   "mimetype": "text/x-python",
   "name": "python",
   "nbconvert_exporter": "python",
   "pygments_lexer": "ipython3",
   "version": "3.9.13"
  },
  "orig_nbformat": 4
 },
 "nbformat": 4,
 "nbformat_minor": 2
}
