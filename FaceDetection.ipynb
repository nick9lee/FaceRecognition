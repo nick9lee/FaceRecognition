{
 "cells": [
  {
   "attachments": {},
   "cell_type": "markdown",
   "metadata": {},
   "source": [
    "# Face Recognition\n",
    "\n",
    "Ahmed Amer, Nicholas Lee, Christian Valdez\n",
    "\n",
    "we are using the ATT face database in the data folder\n",
    "\n",
    "Three methods are implemented and compared in the following order:\n",
    "- LBP\n",
    "- Neural Networks\n",
    "- SVM"
   ]
  },
  {
   "attachments": {},
   "cell_type": "markdown",
   "metadata": {},
   "source": [
    "## Importing Data"
   ]
  },
  {
   "cell_type": "code",
   "execution_count": null,
   "metadata": {},
   "outputs": [],
   "source": [
    "import os\n",
    "from glob import glob\n",
    "\n",
    "from skimage.io import imread\n",
    "from skimage.feature import local_binary_pattern\n",
    "\n",
    "import cv2\n",
    "import numpy as np\n",
    "import matplotlib.pyplot as plt\n",
    "# import data - can probably copy from lab 6"
   ]
  },
  {
   "cell_type": "code",
   "execution_count": null,
   "metadata": {},
   "outputs": [],
   "source": [
    "#constants\n",
    "NUM_OF_SUBJECT = 40\n",
    "NUM_OF_SAMPLES_PER_SUBJECT = 10"
   ]
  },
  {
   "attachments": {},
   "cell_type": "markdown",
   "metadata": {},
   "source": [
    "## LBP - Christian Valdez\n",
    "\n",
    "Process images and set up inputs for Nick and Ahmed\n",
    "\n",
    "we will make 4 models total, 2 using LBP and 2 using images as given"
   ]
  },
  {
   "cell_type": "code",
   "execution_count": null,
   "metadata": {},
   "outputs": [],
   "source": [
    "def read_pgm(dataset_path: str):\n",
    "    '''reads pgm file'''\n",
    "\n",
    "    try:\n",
    "        print(f'reading {dataset_path}')\n",
    "        # img = cv2.imread(dataset_path, 1)\n",
    "        img = imread(dataset_path, as_gray=True)\n",
    "\n",
    "    except Exception as error:\n",
    "        print(f'{error}: {dataset_path} not found, skipping')\n",
    "\n",
    "    else:\n",
    "        return img\n",
    "    \n",
    "def make_gallery():\n",
    "    '''\n",
    "\n",
    "        Description\n",
    "        ================================================\n",
    "        creates gallery for training and classification\n",
    "        \n",
    "        ...\n",
    "\n",
    "        calls the function read_pgm to read pgm file using imread from skimage\n",
    "        returns list of lbp and list of labels\n",
    "\n",
    "        Variable Description\n",
    "        ================================================\n",
    "        P: Number of circularly symmetric neighbor set points\n",
    "        Q: Radius of circle\n",
    "\n",
    "    '''\n",
    "\n",
    "    p = 12\n",
    "    q = 3\n",
    "\n",
    "    subject_samples = sorted(glob('./Data/**/*.pgm'))\n",
    "\n",
    "    lbp_gallery = []\n",
    "    labels = []\n",
    "\n",
    "    for sample in subject_samples:\n",
    "        sample_id = sample.split('\\\\')\n",
    "        sample_id_indx = sample_id[-1].replace('.pgm', '')\n",
    "\n",
    "        img = read_pgm(sample)\n",
    "        lbp = local_binary_pattern(img, p, q)\n",
    "\n",
    "        lbp_gallery.append(lbp)\n",
    "        labels.append(f'{sample_id[1]}_{int(sample_id_indx)-1}')\n",
    "\n",
    "        plt.imshow(img, cmap='gray')\n",
    "        plt.imshow(lbp)\n",
    "    \n",
    "    return [lbp_gallery, labels]\n"
   ]
  },
  {
   "cell_type": "code",
   "execution_count": null,
   "metadata": {},
   "outputs": [],
   "source": [
    "#testing functions above\n",
    "lbp, labels = make_gallery()"
   ]
  },
  {
   "attachments": {},
   "cell_type": "markdown",
   "metadata": {},
   "source": [
    "## Neural Networks - Nicholas lee\n",
    "\n",
    "train model using LBP\n",
    "\n",
    "train model using images\n",
    "\n",
    "compare each to each other"
   ]
  },
  {
   "cell_type": "code",
   "execution_count": null,
   "metadata": {},
   "outputs": [],
   "source": [
    "# Neural Network"
   ]
  },
  {
   "attachments": {},
   "cell_type": "markdown",
   "metadata": {},
   "source": [
    "## SVM - Ahmed Amer\n",
    "\n",
    "train model using LBP\n",
    "\n",
    "train model using images\n",
    "\n",
    "compare each to each other"
   ]
  },
  {
   "cell_type": "code",
   "execution_count": null,
   "metadata": {},
   "outputs": [],
   "source": [
    "#svm"
   ]
  },
  {
   "attachments": {},
   "cell_type": "markdown",
   "metadata": {},
   "source": [
    "## Comparison of all methods (4 models)"
   ]
  },
  {
   "cell_type": "code",
   "execution_count": null,
   "metadata": {},
   "outputs": [],
   "source": [
    "# comparison"
   ]
  }
 ],
 "metadata": {
  "kernelspec": {
   "display_name": "base",
   "language": "python",
   "name": "python3"
  },
  "language_info": {
   "codemirror_mode": {
    "name": "ipython",
    "version": 3
   },
   "file_extension": ".py",
   "mimetype": "text/x-python",
   "name": "python",
   "nbconvert_exporter": "python",
   "pygments_lexer": "ipython3",
   "version": "3.10.9"
  },
  "orig_nbformat": 4
 },
 "nbformat": 4,
 "nbformat_minor": 2
}
